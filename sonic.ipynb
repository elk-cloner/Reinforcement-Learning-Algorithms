{
  "nbformat": 4,
  "nbformat_minor": 0,
  "metadata": {
    "colab": {
      "name": "CartPole_Simple_DQN.ipynb",
      "provenance": [],
      "collapsed_sections": [],
      "include_colab_link": true
    },
    "kernelspec": {
      "name": "python3",
      "display_name": "Python 3"
    }
  },
  "cells": [
    {
      "cell_type": "markdown",
      "metadata": {
        "id": "view-in-github",
        "colab_type": "text"
      },
      "source": [
        "<a href=\"https://colab.research.google.com/github/elk-cloner/RL/blob/master/CartPole_Simple_DQN.ipynb\" target=\"_parent\"><img src=\"https://colab.research.google.com/assets/colab-badge.svg\" alt=\"Open In Colab\"/></a>"
      ]
    },
    {
      "cell_type": "code",
      "metadata": {
        "id": "xEQK0GLD58BM",
        "colab_type": "code",
        "outputId": "bfc18b4c-a59c-4905-84c3-40d5c8fa1593",
        "colab": {
          "base_uri": "https://localhost:8080/",
          "height": 850
        }
      },
      "source": [
        "# using https://colab.research.google.com/drive/1flu31ulJlgiRL1dnN2ir8wGh9p7Zij2t guide to\n",
        "# show openai gym env in jupyter\n",
        "!pip install gym pyvirtualdisplay > /dev/null 2>&1\n",
        "!apt-get install -y xvfb python-opengl ffmpeg > /dev/null 2>&1\n",
        "!pip uninstall pyglet\n",
        "!pip install pyglet==1.3.2\n",
        "!apt-get update > /dev/null 2>&1\n",
        "!apt-get install cmake > /dev/null 2>&1\n",
        "!pip install --upgrade setuptools 2>&1\n",
        "!pip install ez_setup > /dev/null 2>&1\n",
        "!pip install gym[atari] > /dev/null 2>&1\n",
        "!pip install tensorflow-gpu"
      ],
      "execution_count": 1,
      "outputs": [
        {
          "output_type": "stream",
          "text": [
            "Uninstalling pyglet-1.3.2:\n",
            "  Would remove:\n",
            "    /usr/local/lib/python3.6/dist-packages/pyglet-1.3.2.dist-info/*\n",
            "    /usr/local/lib/python3.6/dist-packages/pyglet/*\n",
            "Proceed (y/n)? y\n",
            "  Successfully uninstalled pyglet-1.3.2\n",
            "Collecting pyglet==1.3.2\n",
            "  Using cached https://files.pythonhosted.org/packages/1c/fc/dad5eaaab68f0c21e2f906a94ddb98175662cc5a654eee404d59554ce0fa/pyglet-1.3.2-py2.py3-none-any.whl\n",
            "Requirement already satisfied: future in /usr/local/lib/python3.6/dist-packages (from pyglet==1.3.2) (0.16.0)\n",
            "Installing collected packages: pyglet\n",
            "Successfully installed pyglet-1.3.2\n",
            "Requirement already up-to-date: setuptools in /usr/local/lib/python3.6/dist-packages (41.4.0)\n",
            "Collecting tensorflow-gpu\n",
            "\u001b[?25l  Downloading https://files.pythonhosted.org/packages/25/44/47f0722aea081697143fbcf5d2aa60d1aee4aaacb5869aee2b568974777b/tensorflow_gpu-2.0.0-cp36-cp36m-manylinux2010_x86_64.whl (380.8MB)\n",
            "\u001b[K     |████████████████████████████████| 380.8MB 71kB/s \n",
            "\u001b[?25hRequirement already satisfied: google-pasta>=0.1.6 in /usr/local/lib/python3.6/dist-packages (from tensorflow-gpu) (0.1.7)\n",
            "Requirement already satisfied: astor>=0.6.0 in /usr/local/lib/python3.6/dist-packages (from tensorflow-gpu) (0.8.0)\n",
            "Requirement already satisfied: absl-py>=0.7.0 in /usr/local/lib/python3.6/dist-packages (from tensorflow-gpu) (0.8.0)\n",
            "Collecting tensorflow-estimator<2.1.0,>=2.0.0 (from tensorflow-gpu)\n",
            "\u001b[?25l  Downloading https://files.pythonhosted.org/packages/95/00/5e6cdf86190a70d7382d320b2b04e4ff0f8191a37d90a422a2f8ff0705bb/tensorflow_estimator-2.0.0-py2.py3-none-any.whl (449kB)\n",
            "\u001b[K     |████████████████████████████████| 450kB 46.8MB/s \n",
            "\u001b[?25hRequirement already satisfied: termcolor>=1.1.0 in /usr/local/lib/python3.6/dist-packages (from tensorflow-gpu) (1.1.0)\n",
            "Requirement already satisfied: wheel>=0.26 in /usr/local/lib/python3.6/dist-packages (from tensorflow-gpu) (0.33.6)\n",
            "Requirement already satisfied: gast==0.2.2 in /usr/local/lib/python3.6/dist-packages (from tensorflow-gpu) (0.2.2)\n",
            "Requirement already satisfied: protobuf>=3.6.1 in /usr/local/lib/python3.6/dist-packages (from tensorflow-gpu) (3.7.1)\n",
            "Collecting tensorboard<2.1.0,>=2.0.0 (from tensorflow-gpu)\n",
            "\u001b[?25l  Downloading https://files.pythonhosted.org/packages/9b/a6/e8ffa4e2ddb216449d34cfcb825ebb38206bee5c4553d69e7bc8bc2c5d64/tensorboard-2.0.0-py3-none-any.whl (3.8MB)\n",
            "\u001b[K     |████████████████████████████████| 3.8MB 48.3MB/s \n",
            "\u001b[?25hRequirement already satisfied: keras-applications>=1.0.8 in /usr/local/lib/python3.6/dist-packages (from tensorflow-gpu) (1.0.8)\n",
            "Requirement already satisfied: opt-einsum>=2.3.2 in /usr/local/lib/python3.6/dist-packages (from tensorflow-gpu) (3.1.0)\n",
            "Requirement already satisfied: six>=1.10.0 in /usr/local/lib/python3.6/dist-packages (from tensorflow-gpu) (1.12.0)\n",
            "Requirement already satisfied: wrapt>=1.11.1 in /usr/local/lib/python3.6/dist-packages (from tensorflow-gpu) (1.11.2)\n",
            "Requirement already satisfied: keras-preprocessing>=1.0.5 in /usr/local/lib/python3.6/dist-packages (from tensorflow-gpu) (1.1.0)\n",
            "Requirement already satisfied: grpcio>=1.8.6 in /usr/local/lib/python3.6/dist-packages (from tensorflow-gpu) (1.15.0)\n",
            "Requirement already satisfied: numpy<2.0,>=1.16.0 in /usr/local/lib/python3.6/dist-packages (from tensorflow-gpu) (1.16.5)\n",
            "Requirement already satisfied: setuptools in /usr/local/lib/python3.6/dist-packages (from protobuf>=3.6.1->tensorflow-gpu) (41.4.0)\n",
            "Requirement already satisfied: markdown>=2.6.8 in /usr/local/lib/python3.6/dist-packages (from tensorboard<2.1.0,>=2.0.0->tensorflow-gpu) (3.1.1)\n",
            "Requirement already satisfied: werkzeug>=0.11.15 in /usr/local/lib/python3.6/dist-packages (from tensorboard<2.1.0,>=2.0.0->tensorflow-gpu) (0.16.0)\n",
            "Requirement already satisfied: h5py in /usr/local/lib/python3.6/dist-packages (from keras-applications>=1.0.8->tensorflow-gpu) (2.8.0)\n",
            "\u001b[31mERROR: tensorflow 1.15.0rc3 has requirement tensorboard<1.16.0,>=1.15.0, but you'll have tensorboard 2.0.0 which is incompatible.\u001b[0m\n",
            "\u001b[31mERROR: tensorflow 1.15.0rc3 has requirement tensorflow-estimator==1.15.1, but you'll have tensorflow-estimator 2.0.0 which is incompatible.\u001b[0m\n",
            "Installing collected packages: tensorflow-estimator, tensorboard, tensorflow-gpu\n",
            "  Found existing installation: tensorflow-estimator 1.15.1\n",
            "    Uninstalling tensorflow-estimator-1.15.1:\n",
            "      Successfully uninstalled tensorflow-estimator-1.15.1\n",
            "  Found existing installation: tensorboard 1.15.0\n",
            "    Uninstalling tensorboard-1.15.0:\n",
            "      Successfully uninstalled tensorboard-1.15.0\n",
            "Successfully installed tensorboard-2.0.0 tensorflow-estimator-2.0.0 tensorflow-gpu-2.0.0\n"
          ],
          "name": "stdout"
        }
      ]
    },
    {
      "cell_type": "code",
      "metadata": {
        "id": "S8g8Ar8eGiwP",
        "colab_type": "code",
        "colab": {
          "base_uri": "https://localhost:8080/",
          "height": 71
        },
        "outputId": "8315b8a8-0999-492d-9910-34e1f4ff75e1"
      },
      "source": [
        "import io\n",
        "import gym\n",
        "import math\n",
        "import glob\n",
        "import base64\n",
        "import random\n",
        "import matplotlib\n",
        "%matplotlib inline\n",
        "import numpy as np\n",
        "import tensorflow as tf\n",
        "import matplotlib.pyplot as plt\n",
        "\n",
        "from itertools import count\n",
        "from collections import deque\n",
        "from IPython.display import HTML\n",
        "from gym.wrappers import Monitor\n",
        "from gym import logger as gymlogger\n",
        "gymlogger.set_level(40) #error only\n",
        "from IPython import display as ipythondisplay\n",
        "\n",
        "from pyvirtualdisplay import Display\n",
        "display = Display(visible=0, size=(1400, 900))\n",
        "display.start()"
      ],
      "execution_count": 2,
      "outputs": [
        {
          "output_type": "stream",
          "text": [
            "xdpyinfo was not found, X start can not be checked! Please install xdpyinfo!\n"
          ],
          "name": "stderr"
        },
        {
          "output_type": "execute_result",
          "data": {
            "text/plain": [
              "<Display cmd_param=['Xvfb', '-br', '-nolisten', 'tcp', '-screen', '0', '1400x900x24', ':1001'] cmd=['Xvfb', '-br', '-nolisten', 'tcp', '-screen', '0', '1400x900x24', ':1001'] oserror=None return_code=None stdout=\"None\" stderr=\"None\" timeout_happened=False>"
            ]
          },
          "metadata": {
            "tags": []
          },
          "execution_count": 2
        }
      ]
    },
    {
      "cell_type": "code",
      "metadata": {
        "id": "B5hzhSVr5FpU",
        "colab_type": "code",
        "colab": {}
      },
      "source": [
        "\"\"\"\n",
        "Utility functions to enable video recording of gym environment and displaying it\n",
        "To enable video, just do \"env = wrap_env(env)\"\"\n",
        "\"\"\"\n",
        "\n",
        "def show_video():\n",
        "  mp4list = glob.glob('video/*.mp4')\n",
        "  if len(mp4list) > 0:\n",
        "    mp4 = mp4list[0]\n",
        "    video = io.open(mp4, 'r+b').read()\n",
        "    encoded = base64.b64encode(video)\n",
        "    ipythondisplay.display(HTML(data='''<video alt=\"test\" autoplay \n",
        "                loop controls style=\"height: 400px;\">\n",
        "                <source src=\"data:video/mp4;base64,{0}\" type=\"video/mp4\" />\n",
        "             </video>'''.format(encoded.decode('ascii'))))\n",
        "  else: \n",
        "    print(\"Could not find video\")\n",
        "    \n",
        "\n",
        "def wrap_env(env):\n",
        "  env = Monitor(env, './video', force=True)\n",
        "  return env\n",
        "\n",
        "# env = wrap_env(gym.make(\"MountainCar-v0\"))\n",
        "# show_video()"
      ],
      "execution_count": 0,
      "outputs": []
    },
    {
      "cell_type": "code",
      "metadata": {
        "id": "izo3yfjl5Nu1",
        "colab_type": "code",
        "colab": {}
      },
      "source": [
        "# define fome global variables\n",
        "MEMORY_BUFFER = deque(maxlen=10000)\n",
        "BATCH_SIZE = 32\n",
        "GAMMA = 0.999\n",
        "ORACLE_UPDATE_INTERVAL = 10\n",
        "ACTION_SPACE = None\n",
        "\n",
        "EXPLORATION_MAX = 1.0\n",
        "EXPLORATION_MIN = 0.01\n",
        "EXPLORATION_DECAY = 0.995\n",
        "EXPLORATION_RATE = EXPLORATION_MAX"
      ],
      "execution_count": 0,
      "outputs": []
    },
    {
      "cell_type": "code",
      "metadata": {
        "id": "N0btxx685N6l",
        "colab_type": "code",
        "colab": {}
      },
      "source": [
        "# define very simple DQN network\n",
        "def DQNModel():\n",
        "    policy_model = tf.keras.models.Sequential([\n",
        "        tf.keras.layers.Dense(input_shape=(4,), units=16, activation=\"relu\"),\n",
        "        tf.keras.layers.Dense(units=16, activation=\"relu\"),\n",
        "        tf.keras.layers.Dense(units=2, activation=\"linear\")\n",
        "    ])\n",
        "    return policy_model"
      ],
      "execution_count": 0,
      "outputs": []
    },
    {
      "cell_type": "code",
      "metadata": {
        "id": "3q_a8jkdAOGA",
        "colab_type": "code",
        "outputId": "0eb41671-4863-437d-c111-a7ef2d6f52c9",
        "colab": {
          "base_uri": "https://localhost:8080/",
          "height": 272
        }
      },
      "source": [
        "# define Q-network and Q*-network(oracle)\n",
        "dqn_net = DQNModel()\n",
        "oracle_net = tf.keras.models.clone_model(dqn_net)\n",
        "\n",
        "# define loss function and optimizer\n",
        "loss_func = tf.keras.losses.MeanSquaredError()\n",
        "optimizer = optimizer = tf.keras.optimizers.Adam(learning_rate=0.001, clipvalue=1)\n",
        "\n",
        "print(dqn_net.summary())"
      ],
      "execution_count": 6,
      "outputs": [
        {
          "output_type": "stream",
          "text": [
            "Model: \"sequential\"\n",
            "_________________________________________________________________\n",
            "Layer (type)                 Output Shape              Param #   \n",
            "=================================================================\n",
            "dense (Dense)                (None, 16)                80        \n",
            "_________________________________________________________________\n",
            "dense_1 (Dense)              (None, 16)                272       \n",
            "_________________________________________________________________\n",
            "dense_2 (Dense)              (None, 2)                 34        \n",
            "=================================================================\n",
            "Total params: 386\n",
            "Trainable params: 386\n",
            "Non-trainable params: 0\n",
            "_________________________________________________________________\n",
            "None\n"
          ],
          "name": "stdout"
        }
      ]
    },
    {
      "cell_type": "code",
      "metadata": {
        "id": "rPJMIPpK81QW",
        "colab_type": "code",
        "colab": {}
      },
      "source": [
        "# using vanila epsilon greedy to choose action\n",
        "def select_action(current_state):\n",
        "    if np.random.rand() < 0.5:\n",
        "        return random.sample(ACTION_SPACE,1)[0]\n",
        "    current_state = np.array(current_state).reshape(1, -1)\n",
        "    action_score = dqn_net.predict(current_state)\n",
        "    return tf.math.argmax(action_score, axis=1).numpy()[0]\n",
        "\n",
        "def select_action_decay_epsilon(current_state):\n",
        "    global EXPLORATION_RATE\n",
        "    if np.random.rand() < EXPLORATION_RATE:\n",
        "        return random.sample(ACTION_SPACE,1)[0]\n",
        "    current_state = np.array(current_state).reshape(1, -1)\n",
        "    action_score = dqn_net.predict(current_state)\n",
        "    return tf.math.argmax(action_score, axis=1).numpy()[0]"
      ],
      "execution_count": 0,
      "outputs": []
    },
    {
      "cell_type": "code",
      "metadata": {
        "id": "NmCT1n_99yfG",
        "colab_type": "code",
        "colab": {}
      },
      "source": [
        "def optimize_model():\n",
        "\n",
        "    global EXPLORATION_RATE, EXPLORATION_DECAY, EXPLORATION_MIN\n",
        "\n",
        "    if len(MEMORY_BUFFER) < BATCH_SIZE:\n",
        "        return 0\n",
        "\n",
        "    sample_batch = random.sample(MEMORY_BUFFER, BATCH_SIZE)\n",
        "    y = np.zeros(shape=[1, len(sample_batch)])\n",
        "\n",
        "    for i, sample in enumerate(sample_batch):\n",
        "        current_state, action, next_state, reward, done = sample\n",
        "        if done:\n",
        "            y[0][i] = reward\n",
        "        else:\n",
        "            next_state = np.array(next_state).reshape(1, -1)\n",
        "            target_model_score = tf.math.reduce_max(oracle_net.predict(next_state)).numpy()\n",
        "            y[0][i] = GAMMA * target_model_score + reward\n",
        "\n",
        "    batch_current_state = []\n",
        "    batch_action = np.zeros(shape=[BATCH_SIZE, 2], dtype=np.int32)\n",
        "    for i, sample in enumerate(sample_batch):\n",
        "        current_state, action, next_state, reward, _ = sample\n",
        "        batch_current_state.append(current_state)\n",
        "        batch_action[i][0] = i\n",
        "        batch_action[i][1] = action\n",
        "\n",
        "    batch_current_state = np.array(batch_current_state)\n",
        "\n",
        "    with tf.GradientTape() as gradient_tape:\n",
        "        x = dqn_net(batch_current_state)\n",
        "        x = tf.gather_nd(x, batch_action)\n",
        "        loss = loss_func(y, x)\n",
        "        gradient = gradient_tape.gradient(loss, dqn_net.trainable_variables)\n",
        "        optimizer.apply_gradients(zip(gradient, dqn_net.trainable_variables))\n",
        "\n",
        "    EXPLORATION_RATE *= EXPLORATION_DECAY\n",
        "    EXPLORATION_RATE = max(EXPLORATION_MIN, EXPLORATION_RATE)\n",
        "\n",
        "    return 1"
      ],
      "execution_count": 0,
      "outputs": []
    },
    {
      "cell_type": "code",
      "metadata": {
        "id": "EStnIayn_Xto",
        "colab_type": "code",
        "colab": {}
      },
      "source": [
        "def solved():\n",
        "    # Considered solved when the average reward is greater than or equal to 195.0 over 100 consecutive trials.\n",
        "    oracle_net.load_weights(\"./pre_train_model/\")\n",
        "    env = gym.make(\"CartPole-v0\")\n",
        "    trials_rewards = []\n",
        "    for i in range(100):\n",
        "        current_state = env.reset()\n",
        "        total_rewards = 0\n",
        "        while True:\n",
        "            current_state = np.array(current_state).reshape(1, -1)\n",
        "            action_score = oracle_net.predict(current_state)\n",
        "            action = tf.math.argmax(action_score, axis=1).numpy()[0]\n",
        "            next_state, reward, done, info = env.step(action)\n",
        "            current_state = next_state\n",
        "            if done:\n",
        "                break\n",
        "            total_rewards += reward\n",
        "        trials_rewards.append(total_rewards)\n",
        "    mean_rewards = sum(trials_rewards) / len(trials_rewards)\n",
        "    print(f\"mean rewards for 100 consecutive trials: {mean_rewards}\") \n",
        "    if mean_rewards >= 195.0:\n",
        "        return True\n",
        "    return False"
      ],
      "execution_count": 0,
      "outputs": []
    },
    {
      "cell_type": "code",
      "metadata": {
        "id": "CM4BGXHCME6k",
        "colab_type": "code",
        "colab": {}
      },
      "source": [
        "def render_model():\n",
        "    oracle_net.load_weights(\"./pre_train_model/\")\n",
        "    env = wrap_env(gym.make(\"CartPole-v0\"))\n",
        "    current_state = env.reset()\n",
        "    while True:\n",
        "        env.render()\n",
        "        current_state = np.array(current_state).reshape(1, -1)\n",
        "        action_score = oracle_net.predict(current_state)\n",
        "        action = tf.math.argmax(action_score, axis=1).numpy()[0]\n",
        "        next_state, reward, done, info = env.step(action)\n",
        "        current_state = next_state\n",
        "        if done:\n",
        "            break\n",
        "    env.close()\n",
        "    show_video()"
      ],
      "execution_count": 0,
      "outputs": []
    },
    {
      "cell_type": "code",
      "metadata": {
        "id": "4-LNDzOZAwaJ",
        "colab_type": "code",
        "outputId": "59a8cf20-c8ba-4d46-9f8e-0dd8234c576e",
        "colab": {
          "base_uri": "https://localhost:8080/",
          "height": 1000
        }
      },
      "source": [
        "score_epoch = []\n",
        "optimize_steps = 0\n",
        "env = gym.make(\"CartPole-v0\")\n",
        "ACTION_SPACE = list(range(env.action_space.n))\n",
        "\n",
        "for trial_number in count():\n",
        "    current_state = env.reset()\n",
        "    print(f\"trial number: {trial_number}\")\n",
        "    while True:\n",
        "        action_num = select_action_decay_epsilon(current_state)\n",
        "        # action_num = select_action(current_state)\n",
        "        next_state, reward, done, info = env.step(action_num)\n",
        "        reward = reward if not done else -1 * reward\n",
        "        MEMORY_BUFFER.append(tuple([current_state, action_num, next_state, reward, done]))\n",
        "        optimize_steps += optimize_model()\n",
        "        current_state = next_state\n",
        "        if optimize_steps and optimize_steps % ORACLE_UPDATE_INTERVAL == 0:\n",
        "            oracle_net.set_weights(dqn_net.get_weights())\n",
        "            oracle_net.save_weights(\"./pre_train_model/\")\n",
        "        if done:\n",
        "            break\n",
        "    if optimize_steps > 0 and solved():\n",
        "        print(f\"solved after {trial_number} episods\")\n",
        "        break"
      ],
      "execution_count": 11,
      "outputs": [
        {
          "output_type": "stream",
          "text": [
            "trial number: 0\n",
            "WARNING:tensorflow:Layer dense is casting an input tensor from dtype float64 to the layer's dtype of float32, which is new behavior in TensorFlow 2.  The layer has dtype float32 because it's dtype defaults to floatx.\n",
            "\n",
            "If you intended to run this layer in float32, you can safely ignore this warning. If in doubt, this warning is likely only an issue if you are porting a TensorFlow 1.X model to TensorFlow 2.\n",
            "\n",
            "To change all layers to have dtype float64 by default, call `tf.keras.backend.set_floatx('float64')`. To change just this layer, pass dtype='float64' to the layer constructor. If you are the author of this layer, you can disable autocasting by passing autocast=False to the base Layer constructor.\n",
            "\n",
            "mean rewards for 100 consecutive trials: 11.74\n",
            "trial number: 1\n",
            "mean rewards for 100 consecutive trials: 8.38\n",
            "trial number: 2\n",
            "mean rewards for 100 consecutive trials: 8.37\n",
            "trial number: 3\n",
            "mean rewards for 100 consecutive trials: 8.37\n",
            "trial number: 4\n",
            "mean rewards for 100 consecutive trials: 8.29\n",
            "trial number: 5\n",
            "mean rewards for 100 consecutive trials: 8.33\n",
            "trial number: 6\n",
            "mean rewards for 100 consecutive trials: 8.4\n",
            "trial number: 7\n",
            "mean rewards for 100 consecutive trials: 8.37\n",
            "trial number: 8\n",
            "mean rewards for 100 consecutive trials: 8.34\n",
            "trial number: 9\n",
            "mean rewards for 100 consecutive trials: 8.41\n",
            "trial number: 10\n",
            "mean rewards for 100 consecutive trials: 8.31\n",
            "trial number: 11\n",
            "mean rewards for 100 consecutive trials: 8.42\n",
            "trial number: 12\n",
            "mean rewards for 100 consecutive trials: 8.41\n",
            "trial number: 13\n",
            "mean rewards for 100 consecutive trials: 8.46\n",
            "trial number: 14\n",
            "mean rewards for 100 consecutive trials: 8.26\n",
            "trial number: 15\n",
            "mean rewards for 100 consecutive trials: 8.33\n",
            "trial number: 16\n",
            "mean rewards for 100 consecutive trials: 8.44\n",
            "trial number: 17\n",
            "mean rewards for 100 consecutive trials: 8.33\n",
            "trial number: 18\n",
            "mean rewards for 100 consecutive trials: 8.25\n",
            "trial number: 19\n",
            "mean rewards for 100 consecutive trials: 8.51\n",
            "trial number: 20\n",
            "mean rewards for 100 consecutive trials: 8.33\n",
            "trial number: 21\n",
            "mean rewards for 100 consecutive trials: 8.48\n",
            "trial number: 22\n",
            "mean rewards for 100 consecutive trials: 8.75\n",
            "trial number: 23\n",
            "mean rewards for 100 consecutive trials: 8.96\n",
            "trial number: 24\n",
            "mean rewards for 100 consecutive trials: 9.07\n",
            "trial number: 25\n",
            "mean rewards for 100 consecutive trials: 9.03\n",
            "trial number: 26\n",
            "mean rewards for 100 consecutive trials: 9.18\n",
            "trial number: 27\n",
            "mean rewards for 100 consecutive trials: 9.28\n",
            "trial number: 28\n",
            "mean rewards for 100 consecutive trials: 9.63\n",
            "trial number: 29\n",
            "mean rewards for 100 consecutive trials: 9.9\n",
            "trial number: 30\n",
            "mean rewards for 100 consecutive trials: 10.56\n",
            "trial number: 31\n",
            "mean rewards for 100 consecutive trials: 11.48\n",
            "trial number: 32\n",
            "mean rewards for 100 consecutive trials: 11.66\n",
            "trial number: 33\n",
            "mean rewards for 100 consecutive trials: 12.79\n",
            "trial number: 34\n",
            "mean rewards for 100 consecutive trials: 14.92\n",
            "trial number: 35\n",
            "mean rewards for 100 consecutive trials: 46.04\n",
            "trial number: 36\n",
            "mean rewards for 100 consecutive trials: 19.98\n",
            "trial number: 37\n",
            "mean rewards for 100 consecutive trials: 8.32\n",
            "trial number: 38\n",
            "mean rewards for 100 consecutive trials: 8.3\n",
            "trial number: 39\n",
            "mean rewards for 100 consecutive trials: 8.31\n",
            "trial number: 40\n",
            "mean rewards for 100 consecutive trials: 8.19\n",
            "trial number: 41\n",
            "mean rewards for 100 consecutive trials: 86.87\n",
            "trial number: 42\n",
            "mean rewards for 100 consecutive trials: 23.24\n",
            "trial number: 43\n",
            "mean rewards for 100 consecutive trials: 18.53\n",
            "trial number: 44\n",
            "mean rewards for 100 consecutive trials: 15.1\n",
            "trial number: 45\n",
            "mean rewards for 100 consecutive trials: 15.08\n",
            "trial number: 46\n",
            "mean rewards for 100 consecutive trials: 45.93\n",
            "trial number: 47\n",
            "mean rewards for 100 consecutive trials: 11.71\n",
            "trial number: 48\n",
            "mean rewards for 100 consecutive trials: 9.87\n",
            "trial number: 49\n",
            "mean rewards for 100 consecutive trials: 8.34\n",
            "trial number: 50\n",
            "mean rewards for 100 consecutive trials: 9.66\n",
            "trial number: 51\n",
            "mean rewards for 100 consecutive trials: 8.82\n",
            "trial number: 52\n",
            "mean rewards for 100 consecutive trials: 8.3\n",
            "trial number: 53\n",
            "mean rewards for 100 consecutive trials: 8.34\n",
            "trial number: 54\n",
            "mean rewards for 100 consecutive trials: 8.47\n",
            "trial number: 55\n",
            "mean rewards for 100 consecutive trials: 13.33\n",
            "trial number: 56\n",
            "mean rewards for 100 consecutive trials: 16.53\n",
            "trial number: 57\n",
            "mean rewards for 100 consecutive trials: 8.59\n",
            "trial number: 58\n",
            "mean rewards for 100 consecutive trials: 10.04\n",
            "trial number: 59\n",
            "mean rewards for 100 consecutive trials: 23.05\n",
            "trial number: 60\n",
            "mean rewards for 100 consecutive trials: 9.78\n",
            "trial number: 61\n",
            "mean rewards for 100 consecutive trials: 8.79\n",
            "trial number: 62\n",
            "mean rewards for 100 consecutive trials: 42.5\n",
            "trial number: 63\n",
            "mean rewards for 100 consecutive trials: 61.59\n",
            "trial number: 64\n",
            "mean rewards for 100 consecutive trials: 67.37\n",
            "trial number: 65\n",
            "mean rewards for 100 consecutive trials: 62.02\n",
            "trial number: 66\n",
            "mean rewards for 100 consecutive trials: 55.01\n",
            "trial number: 67\n",
            "mean rewards for 100 consecutive trials: 71.55\n",
            "trial number: 68\n",
            "mean rewards for 100 consecutive trials: 59.7\n",
            "trial number: 69\n",
            "mean rewards for 100 consecutive trials: 39.62\n",
            "trial number: 70\n",
            "mean rewards for 100 consecutive trials: 78.29\n",
            "trial number: 71\n",
            "mean rewards for 100 consecutive trials: 58.49\n",
            "trial number: 72\n",
            "mean rewards for 100 consecutive trials: 60.57\n",
            "trial number: 73\n",
            "mean rewards for 100 consecutive trials: 63.43\n",
            "trial number: 74\n",
            "mean rewards for 100 consecutive trials: 49.86\n",
            "trial number: 75\n",
            "mean rewards for 100 consecutive trials: 63.75\n",
            "trial number: 76\n",
            "mean rewards for 100 consecutive trials: 42.46\n",
            "trial number: 77\n",
            "mean rewards for 100 consecutive trials: 87.94\n",
            "trial number: 78\n",
            "mean rewards for 100 consecutive trials: 191.72\n",
            "trial number: 79\n",
            "mean rewards for 100 consecutive trials: 199.0\n",
            "solved after 79 episods\n"
          ],
          "name": "stdout"
        }
      ]
    },
    {
      "cell_type": "code",
      "metadata": {
        "id": "ztZTW4_ALWpr",
        "colab_type": "code",
        "outputId": "99b64eb4-80a9-4468-bd09-c7e5efad0cf1",
        "colab": {
          "base_uri": "https://localhost:8080/",
          "height": 421
        }
      },
      "source": [
        "render_model()"
      ],
      "execution_count": 12,
      "outputs": [
        {
          "output_type": "display_data",
          "data": {
            "text/html": [
              "<video alt=\"test\" autoplay \n",
              "                loop controls style=\"height: 400px;\">\n",
              "                <source src=\"data:video/mp4;base64,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\" type=\"video/mp4\" />\n",
              "             </video>"
            ],
            "text/plain": [
              "<IPython.core.display.HTML object>"
            ]
          },
          "metadata": {
            "tags": []
          }
        }
      ]
    }
  ]
}